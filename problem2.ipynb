{
 "cells": [
  {
   "cell_type": "markdown",
   "metadata": {},
   "source": [
    "# Problem 2\n",
    "\n",
    "A company has a hierarchical employee structure with each employee having a line manager. The structure looks like this:\n",
    "```\n",
    "        Joe\n",
    "        |\n",
    "        |\n",
    "   -- Harry ---\n",
    "  |           |\n",
    "Chang       Mary\n",
    "              |\n",
    "            Alfonse\n",
    "```\n",
    "\n",
    "Write a C# console application that takes an employee name as an argument and returns all employees that report to them all the way down the hierarchy. (Note not only their direct sub-ordinates but all sub-ordinates right up to the leaf level)\n",
    "As an example, the function would return Chang, Mary and Alfonse for an argument of Harry.\n"
   ]
  },
  {
   "cell_type": "markdown",
   "metadata": {},
   "source": [
    "#### Import the Hierarchy module which acts as the graph based datastructure for the problem"
   ]
  },
  {
   "cell_type": "code",
   "execution_count": 1,
   "metadata": {},
   "outputs": [],
   "source": [
    "from Hierarchy import *"
   ]
  },
  {
   "cell_type": "markdown",
   "metadata": {},
   "source": [
    "### Add the employees in the specified structure, Joe as the boss (root) and the rest according to who they report to."
   ]
  },
  {
   "cell_type": "code",
   "execution_count": 2,
   "metadata": {},
   "outputs": [],
   "source": [
    "employees = Hierarchy(\"Joe\")\n",
    "employees.add(\"Harry\", \"Joe\")\n",
    "employees.add(\"Chang\", \"Harry\")\n",
    "employees.add(\"Mary\", \"Harry\")\n",
    "employees.add(\"Alfonse\", \"Mary\")"
   ]
  },
  {
   "cell_type": "markdown",
   "metadata": {},
   "source": [
    "### Get the Hierarchy of employees reporting to specified user"
   ]
  },
  {
   "cell_type": "code",
   "execution_count": 3,
   "metadata": {},
   "outputs": [],
   "source": [
    "query = input(\"Employee Name\")"
   ]
  },
  {
   "cell_type": "code",
   "execution_count": 4,
   "metadata": {},
   "outputs": [],
   "source": [
    "hier = employees.get_hierarchy(query)"
   ]
  },
  {
   "cell_type": "code",
   "execution_count": 5,
   "metadata": {},
   "outputs": [
    {
     "name": "stdout",
     "output_type": "stream",
     "text": [
      "Employees Mary, Alfonse, Chang are reporting to Harry\n"
     ]
    }
   ],
   "source": [
    "if (len(hier)):\n",
    "    employee_lst = \", \".join(hier)\n",
    "    print(f\"Employees {employee_lst} are reporting to {query}\")\n",
    "else:\n",
    "    print(f\"No one is reporting to {query}\")"
   ]
  },
  {
   "cell_type": "code",
   "execution_count": 6,
   "metadata": {},
   "outputs": [
    {
     "data": {
      "text/plain": [
       "['Mary', 'Alfonse', 'Chang']"
      ]
     },
     "execution_count": 6,
     "metadata": {},
     "output_type": "execute_result"
    }
   ],
   "source": [
    "hier"
   ]
  },
  {
   "cell_type": "code",
   "execution_count": null,
   "metadata": {},
   "outputs": [],
   "source": []
  }
 ],
 "metadata": {
  "kernelspec": {
   "display_name": "Python 3.10.6 ('venv': venv)",
   "language": "python",
   "name": "python3"
  },
  "language_info": {
   "codemirror_mode": {
    "name": "ipython",
    "version": 3
   },
   "file_extension": ".py",
   "mimetype": "text/x-python",
   "name": "python",
   "nbconvert_exporter": "python",
   "pygments_lexer": "ipython3",
   "version": "3.10.6"
  },
  "orig_nbformat": 4,
  "vscode": {
   "interpreter": {
    "hash": "309910a552cb8d0aa70a0ceb7f5623621898e56cb705acfb2414af41f83e27eb"
   }
  }
 },
 "nbformat": 4,
 "nbformat_minor": 2
}
